{
 "cells": [
  {
   "cell_type": "code",
   "execution_count": 1,
   "metadata": {},
   "outputs": [],
   "source": [
    "# 调用需要的模块\n",
    "import numpy as np\n",
    "import argparse\n",
    "import time\n",
    "import cv2\n",
    "import os\n",
    "import shutil\n",
    "import pandas as pd\n",
    "import re"
   ]
  },
  {
   "cell_type": "code",
   "execution_count": 2,
   "metadata": {},
   "outputs": [],
   "source": [
    "# 整理所有文件路径\n",
    "path=r\"./images/my_cat_dataset/\"\n",
    "listAllFiles=[]\n",
    "listAllRoot=[]\n",
    "listAllDirs=[]\n",
    "for root,dirs,files in os.walk(path):\n",
    "    \"\"\" for file in files:\n",
    "        temp=os.path.join(ele,file)\n",
    "        listAllFiles.append(temp) \"\"\"\n",
    "    listAllRoot.append(root)\n",
    "    for ele in dirs:\n",
    "        listAllDirs.append(ele)\n",
    "    for ele in files:\n",
    "        listAllFiles.append(ele)\n",
    "listAllDirs=listAllRoot[1:]\n",
    "listFiles=[]\n",
    "listFilesBreed=[]\n",
    "for ele in listAllDirs:\n",
    "    breedName=ele.split(\"/\")[-1]\n",
    "    for root,dirs,files in os.walk(ele):\n",
    "        for file in files:\n",
    "            # listAllFiles.append(os.path.join(ele,file))\n",
    "            listFiles.append(ele+\"/\"+file)\n",
    "            listFilesBreed.append(breedName)\n",
    "dfFilesPath=pd.DataFrame(listFiles)\n",
    "dfFilesPath=dfFilesPath.rename(columns={0:\"path\"})\n",
    "dfFilesPath[\"breed\"]=listFilesBreed\n",
    "dfFilesPath.to_csv(\"./all_image_path.csv\",index=False)"
   ]
  },
  {
   "cell_type": "code",
   "execution_count": 3,
   "metadata": {},
   "outputs": [
    {
     "output_type": "stream",
     "name": "stdout",
     "text": "1104\n31\n33096\n31\n<class 'list'>\n"
    }
   ],
   "source": [
    "#统计不同文件夹下文件的个数\n",
    "path=r\"./images/my_cat_dataset/\"\n",
    "countRoot=0\n",
    "countDirs=0\n",
    "countFiles=0\n",
    "\n",
    "for root,dirs,files in os.walk(path):\n",
    "    for ele in root:\n",
    "        countRoot+=1\n",
    "    for ele in dirs:\n",
    "        countDirs+=1\n",
    "    for ele in files:\n",
    "        countFiles+=1\n",
    "print(countRoot)\n",
    "print(countDirs)\n",
    "print(countFiles)\n",
    "#那么我要处理的是：分别计算40个文件夹下的文件数量\n",
    "#创建DataFrame\n",
    "temp=os.listdir(path)\n",
    "print(len(temp))\n",
    "print(type(temp))\n",
    "dfBase=pd.DataFrame(temp)\n",
    "dfBase=dfBase.rename(columns={0:\"breed\"})\n",
    "dfBase[\"dir\"]=\"\"\n",
    "dfBase[\"count\"]=0\n",
    "#填入不同文件夹的路径\n",
    "seek=0\n",
    "for root,dirs,files in os.walk(path):\n",
    "    for ele in dirs:\n",
    "        dfBase.loc[seek,\"dir\"]=os.path.join(path,ele)\n",
    "        seek+=1\n",
    "#遍历不同文件夹，计算不同文件夹下的图片文件数量\n",
    "seek=0\n",
    "for ele in dfBase[\"dir\"]:\n",
    "    count=0\n",
    "    for root,dirs,files in os.walk(ele):\n",
    "        for file in files:\n",
    "            count+=1\n",
    "    dfBase.loc[seek,\"count\"]=count\n",
    "    seek+=1\n",
    "#将初步统计结果保存\n",
    "dfBase.to_csv(\"./breeds_number.csv\",index=False) "
   ]
  },
  {
   "cell_type": "code",
   "execution_count": null,
   "metadata": {},
   "outputs": [],
   "source": []
  },
  {
   "cell_type": "code",
   "execution_count": null,
   "metadata": {},
   "outputs": [],
   "source": []
  }
 ],
 "metadata": {
  "language_info": {
   "codemirror_mode": {
    "name": "ipython",
    "version": 3
   },
   "file_extension": ".py",
   "mimetype": "text/x-python",
   "name": "python",
   "nbconvert_exporter": "python",
   "pygments_lexer": "ipython3",
   "version": "3.7.6-final"
  },
  "orig_nbformat": 2,
  "kernelspec": {
   "name": "python3",
   "display_name": "Python 3"
  }
 },
 "nbformat": 4,
 "nbformat_minor": 2
}