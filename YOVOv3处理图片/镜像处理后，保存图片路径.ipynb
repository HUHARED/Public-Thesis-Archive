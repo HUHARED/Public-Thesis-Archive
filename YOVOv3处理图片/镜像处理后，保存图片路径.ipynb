{
 "cells": [
  {
   "cell_type": "code",
   "execution_count": 1,
   "metadata": {},
   "outputs": [],
   "source": [
    "import os \n",
    "import pandas as pd"
   ]
  },
  {
   "cell_type": "code",
   "execution_count": null,
   "metadata": {},
   "outputs": [],
   "source": []
  },
  {
   "cell_type": "code",
   "execution_count": 7,
   "metadata": {},
   "outputs": [
    {
     "output_type": "stream",
     "name": "stdout",
     "text": "1907\n53\n111356\n53\n<class 'list'>\n"
    }
   ],
   "source": [
    "# 统计镜像处理后，不同种类的图片数量\n",
    "path=r\"./images/cat_breeds_two/\"\n",
    "countRoot=0\n",
    "countDirs=0\n",
    "countFiles=0\n",
    "\n",
    "for root,dirs,files in os.walk(path):\n",
    "    for ele in root:\n",
    "        countRoot+=1\n",
    "    for ele in dirs:\n",
    "        countDirs+=1\n",
    "    for ele in files:\n",
    "        countFiles+=1\n",
    "print(countRoot)\n",
    "print(countDirs)\n",
    "print(countFiles)\n",
    "#那么我要处理的是：分别计算65个文件夹下的文件数量\n",
    "#创建DataFrame\n",
    "temp=os.listdir(path)\n",
    "print(len(temp))\n",
    "print(type(temp))\n",
    "dfBase=pd.DataFrame(temp)\n",
    "dfBase=dfBase.rename(columns={0:\"breed\"})\n",
    "dfBase[\"dir\"]=\"\"\n",
    "dfBase[\"count\"]=0\n",
    "#填入不同文件夹的路径\n",
    "seek=0\n",
    "for root,dirs,files in os.walk(path):\n",
    "    for ele in dirs:\n",
    "        dfBase.loc[seek,\"dir\"]=os.path.join(path,ele)\n",
    "        seek+=1\n",
    "#遍历不同文件夹，计算不同文件夹下的图片文件数量\n",
    "seek=0\n",
    "for ele in dfBase[\"dir\"]:\n",
    "    count=0\n",
    "    for root,dirs,files in os.walk(ele):\n",
    "        for file in files:\n",
    "            count+=1\n",
    "    dfBase.loc[seek,\"count\"]=count\n",
    "    seek+=1\n",
    "#将初步统计结果保存\n",
    "dfBase.to_csv(\"./cat_breeds_two_total_afterflip.csv\",index=False) "
   ]
  },
  {
   "cell_type": "code",
   "execution_count": 6,
   "metadata": {},
   "outputs": [],
   "source": [
    "# 将所有图片的路径保存为csv ，除了图片数量少于100的品种\n",
    "path=r\"./images/cat_breeds_two/\"\n",
    "listAllFiles=[]\n",
    "listAllRoot=[]\n",
    "listAllDirs=[]\n",
    "for root,dirs,files in os.walk(path):\n",
    "    \"\"\" for file in files:\n",
    "        temp=os.path.join(ele,file)\n",
    "        listAllFiles.append(temp) \"\"\"\n",
    "    listAllRoot.append(root)\n",
    "    for ele in dirs:\n",
    "        listAllDirs.append(ele)\n",
    "    for ele in files:\n",
    "        listAllFiles.append(ele)\n",
    "listAllDirs=listAllRoot[1:]\n",
    "listFiles=[]\n",
    "listFilesBreed=[]\n",
    "for ele in listAllDirs:\n",
    "    breedName=ele.split(\"/\")[-1]\n",
    "    for root,dirs,files in os.walk(ele):\n",
    "        for file in files:\n",
    "            # listAllFiles.append(os.path.join(ele,file))\n",
    "            listFiles.append(ele+\"/\"+file)\n",
    "            listFilesBreed.append(breedName)\n",
    "dfFilesPath=pd.DataFrame(listFiles)\n",
    "dfFilesPath=dfFilesPath.rename(columns={0:\"path\"})\n",
    "dfFilesPath[\"breed\"]=listFilesBreed\n",
    "dfFilesPath.to_csv(\"./dataset_two_path_afterflip.csv\",index=False)"
   ]
  },
  {
   "cell_type": "code",
   "execution_count": null,
   "metadata": {},
   "outputs": [],
   "source": [
    "American Wirehair\n",
    "Burmilla\n",
    "Canadian Hairless\n",
    "Chartreux\n",
    "Chausie\n",
    "Chinchilla\n",
    "Cymric\n",
    "Devon Rex\n",
    "Javanese\n",
    "Korat\n",
    "Oriental Tabby\n",
    "Selkirk Rex\n",
    "Silver\n",
    "York Chocolate"
   ]
  },
  {
   "cell_type": "code",
   "execution_count": null,
   "metadata": {},
   "outputs": [],
   "source": []
  }
 ],
 "metadata": {
  "language_info": {
   "codemirror_mode": {
    "name": "ipython",
    "version": 3
   },
   "file_extension": ".py",
   "mimetype": "text/x-python",
   "name": "python",
   "nbconvert_exporter": "python",
   "pygments_lexer": "ipython3",
   "version": "3.7.6-final"
  },
  "orig_nbformat": 2,
  "kernelspec": {
   "name": "python3",
   "display_name": "Python 3"
  }
 },
 "nbformat": 4,
 "nbformat_minor": 2
}