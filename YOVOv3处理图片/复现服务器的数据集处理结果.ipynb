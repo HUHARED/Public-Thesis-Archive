{
 "cells": [
  {
   "cell_type": "code",
   "execution_count": 2,
   "metadata": {},
   "outputs": [],
   "source": [
    "import os\n",
    "import shutil\n",
    "import pandas as pd\n",
    "pathTo = \"./images/wrongimages_two/\"\n",
    "listNeedHandleImagePath=pd.read_csv(\"./dataset_wrongimages_two.csv\")[\"name\"].tolist()\n",
    "listImagePath = pd.read_csv(\"./dataset_two_path.csv\")[\"path\"].tolist()"
   ]
  },
  {
   "cell_type": "code",
   "execution_count": 3,
   "metadata": {},
   "outputs": [],
   "source": [
    "for ele in listImagePath:\n",
    "    if os.path.exists(ele) == False:\n",
    "        continue\n",
    "    for seek in listNeedHandleImagePath:\n",
    "        if ele.find(seek)!=-1:\n",
    "            shutil.move(ele,pathTo)"
   ]
  },
  {
   "cell_type": "code",
   "execution_count": null,
   "metadata": {},
   "outputs": [],
   "source": []
  },
  {
   "cell_type": "code",
   "execution_count": null,
   "metadata": {},
   "outputs": [],
   "source": []
  },
  {
   "cell_type": "code",
   "execution_count": null,
   "metadata": {},
   "outputs": [],
   "source": []
  }
 ],
 "metadata": {
  "language_info": {
   "codemirror_mode": {
    "name": "ipython",
    "version": 3
   },
   "file_extension": ".py",
   "mimetype": "text/x-python",
   "name": "python",
   "nbconvert_exporter": "python",
   "pygments_lexer": "ipython3",
   "version": "3.7.6-final"
  },
  "orig_nbformat": 2,
  "kernelspec": {
   "name": "python3",
   "display_name": "Python 3"
  }
 },
 "nbformat": 4,
 "nbformat_minor": 2
}