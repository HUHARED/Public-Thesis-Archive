{
 "nbformat": 4,
 "nbformat_minor": 2,
 "metadata": {
  "language_info": {
   "name": "python",
   "codemirror_mode": {
    "name": "ipython",
    "version": 3
   },
   "version": "3.7.6-final"
  },
  "orig_nbformat": 2,
  "file_extension": ".py",
  "mimetype": "text/x-python",
  "name": "python",
  "npconvert_exporter": "python",
  "pygments_lexer": "ipython3",
  "version": 3,
  "kernelspec": {
   "name": "python3",
   "display_name": "Python 3"
  }
 },
 "cells": [
  {
   "cell_type": "code",
   "execution_count": 1,
   "metadata": {},
   "outputs": [],
   "source": [
    "# 调用需要的模块\n",
    "import numpy as np\n",
    "import argparse\n",
    "import time\n",
    "import cv2\n",
    "import os\n",
    "import shutil\n",
    "import pandas as pd\n",
    "import re"
   ]
  },
  {
   "cell_type": "code",
   "execution_count": 2,
   "metadata": {},
   "outputs": [],
   "source": [
    "path1=r\"./images/cat_breeds_one/\"\n",
    "pathTwoCat=r\"./images/twocat/\"\n",
    "\n",
    "dfDirs=pd.read_csv(\"./cat_breeds_one_total.csv\")"
   ]
  },
  {
   "cell_type": "code",
   "execution_count": 3,
   "metadata": {},
   "outputs": [],
   "source": [
    "listAllFiles=[]\n",
    "listAllRoot=[]\n",
    "listAllDirs=[]"
   ]
  },
  {
   "cell_type": "code",
   "execution_count": 4,
   "metadata": {},
   "outputs": [],
   "source": [
    "for root,dirs,files in os.walk(path1):\n",
    "    \"\"\" for file in files:\n",
    "        temp=os.path.join(ele,file)\n",
    "        listAllFiles.append(temp) \"\"\"\n",
    "    listAllRoot.append(root)\n",
    "    for ele in dirs:\n",
    "        listAllDirs.append(ele)\n",
    "    for ele in files:\n",
    "        listAllFiles.append(ele)"
   ]
  },
  {
   "cell_type": "code",
   "execution_count": 5,
   "metadata": {},
   "outputs": [],
   "source": [
    "listFiles=[]"
   ]
  },
  {
   "cell_type": "code",
   "execution_count": 6,
   "metadata": {},
   "outputs": [],
   "source": [
    "for ele in listAllRoot[1:]:\n",
    "    for root,dirs,files in os.walk(ele):\n",
    "        for file in files:\n",
    "            # listAllFiles.append(os.path.join(ele,file))\n",
    "            listFiles.append(ele+\"/\"+file)"
   ]
  },
  {
   "cell_type": "code",
   "execution_count": 7,
   "metadata": {},
   "outputs": [],
   "source": [
    "dfFilesPath=pd.DataFrame(listFiles)"
   ]
  },
  {
   "cell_type": "code",
   "execution_count": 9,
   "metadata": {},
   "outputs": [],
   "source": [
    "dfFilesPath=dfFilesPath.rename(columns={0:\"path\"})"
   ]
  },
  {
   "cell_type": "code",
   "execution_count": 11,
   "metadata": {},
   "outputs": [],
   "source": [
    "dfFilesPath.to_csv(\"./dataset_one_path.csv\",index=False)"
   ]
  },
  {
   "cell_type": "code",
   "execution_count": null,
   "metadata": {},
   "outputs": [],
   "source": []
  }
 ]
}