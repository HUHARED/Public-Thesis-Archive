{
 "cells": [
  {
   "cell_type": "code",
   "execution_count": 14,
   "metadata": {},
   "outputs": [],
   "source": [
    "from PIL import Image\n",
    "import pandas as pd\n",
    "import os\n",
    "import shutil\n",
    "import re"
   ]
  },
  {
   "cell_type": "code",
   "execution_count": 8,
   "metadata": {},
   "outputs": [],
   "source": [
    "# 获取要处理的图片：图片数量大于100，小于200的品种的图片文件夹\n",
    "dfNow=pd.read_csv('./cat_breeds_two_total_谷歌增加图片后.csv')\n",
    "breedFolderList=[]\n",
    "for ele in dfNow.iterrows():\n",
    "    # temp=type(ele)\n",
    "    temp=ele[1]\n",
    "    if temp[\"count\"]<200 and temp[\"count\"]>=100:\n",
    "        breedFolderList.append(r\"./images/cat_breeds_two/\"+temp[\"breed\"])"
   ]
  },
  {
   "cell_type": "code",
   "execution_count": 39,
   "metadata": {},
   "outputs": [],
   "source": [
    "#获取所有文件的地址 \n",
    "listAllFiles=[]\n",
    "listAllRoot=[]\n",
    "for folder in breedFolderList:\n",
    "    for root,dirs,files in os.walk(folder):\n",
    "        listAllRoot.append(root)\n",
    "        for ele in files:\n",
    "            listAllFiles.append(root+\"/\"+ele)"
   ]
  },
  {
   "cell_type": "code",
   "execution_count": 47,
   "metadata": {},
   "outputs": [],
   "source": [
    "for image in listAllFiles:\n",
    "    temp=image.split(\".\")\n",
    "    filePrefix=\".\"+temp[1]+\"_flip\"\n",
    "    fileSuffix=\".\"+temp[2]\n",
    "    dir_save=filePrefix+fileSuffix\n",
    "    imageToHandle=Image.open(image)\n",
    "    imageToHandle.transpose(Image.FLIP_LEFT_RIGHT).save(dir_save)"
   ]
  },
  {
   "cell_type": "code",
   "execution_count": null,
   "metadata": {},
   "outputs": [],
   "source": []
  },
  {
   "cell_type": "code",
   "execution_count": null,
   "metadata": {},
   "outputs": [],
   "source": []
  },
  {
   "cell_type": "code",
   "execution_count": null,
   "metadata": {},
   "outputs": [],
   "source": []
  },
  {
   "cell_type": "code",
   "execution_count": null,
   "metadata": {},
   "outputs": [],
   "source": []
  }
 ],
 "metadata": {
  "language_info": {
   "codemirror_mode": {
    "name": "ipython",
    "version": 3
   },
   "file_extension": ".py",
   "mimetype": "text/x-python",
   "name": "python",
   "nbconvert_exporter": "python",
   "pygments_lexer": "ipython3",
   "version": "3.7.6-final"
  },
  "orig_nbformat": 2,
  "kernelspec": {
   "name": "python3",
   "display_name": "Python 3"
  }
 },
 "nbformat": 4,
 "nbformat_minor": 2
}